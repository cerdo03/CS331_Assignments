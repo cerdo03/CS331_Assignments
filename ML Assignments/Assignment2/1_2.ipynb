{
 "cells": [
  {
   "cell_type": "code",
   "execution_count": 1,
   "metadata": {},
   "outputs": [],
   "source": [
    "import numpy as np\n",
    "import pandas as pd\n",
    "import seaborn as sns\n",
    "import matplotlib.pyplot as plt\n",
    "import cv2\n",
    "import copy\n",
    "import os\n",
    "import PIL\n",
    "import PIL.Image\n",
    "import tensorflow as tf\n",
    "import tensorflow_datasets as tfds"
   ]
  },
  {
   "cell_type": "code",
   "execution_count": 2,
   "metadata": {},
   "outputs": [],
   "source": [
    "import pathlib\n",
    "dataset_url = \"https://storage.googleapis.com/download.tensorflow.org/example_images/flower_photos.tgz\"\n",
    "data_dir = tf.keras.utils.get_file(origin=dataset_url,\n",
    "                                   fname='flower_photos',\n",
    "                                   untar=True)\n",
    "data_dir = pathlib.Path(data_dir)"
   ]
  },
  {
   "cell_type": "code",
   "execution_count": 3,
   "metadata": {},
   "outputs": [],
   "source": [
    "roses = list(data_dir.glob('roses/*'))\n",
    "image=cv2.imread(str(roses[3]))\n",
    "image=cv2.resize(image,dsize=(64,64))\n",
    "image = cv2.cvtColor(image, cv2.COLOR_BGR2RGB)\n",
    "\n",
    "# PIL.Image.open(str(roses[1]))"
   ]
  },
  {
   "cell_type": "code",
   "execution_count": 4,
   "metadata": {},
   "outputs": [
    {
     "data": {
      "text/plain": [
       "array([[[ 55,  70,  64],\n",
       "        [ 31,  42,  30],\n",
       "        [ 38,  45,  38],\n",
       "        ...,\n",
       "        [155, 155, 101],\n",
       "        [163, 120, 163],\n",
       "        [143,  86, 125]],\n",
       "\n",
       "       [[ 54,  63,  58],\n",
       "        [ 30,  35,  27],\n",
       "        [ 30,  33,  27],\n",
       "        ...,\n",
       "        [159, 156, 110],\n",
       "        [130,  94, 104],\n",
       "        [145,  87, 126]],\n",
       "\n",
       "       [[ 39,  44,  39],\n",
       "        [ 29,  32,  25],\n",
       "        [ 60,  69,  62],\n",
       "        ...,\n",
       "        [164, 162, 109],\n",
       "        [143, 137,  93],\n",
       "        [138,  73, 105]],\n",
       "\n",
       "       ...,\n",
       "\n",
       "       [[ 98,  77,  58],\n",
       "        [ 79, 101,  53],\n",
       "        [ 80, 103,  46],\n",
       "        ...,\n",
       "        [ 94,  81,  50],\n",
       "        [ 49,  59,  34],\n",
       "        [ 55,  65,  34]],\n",
       "\n",
       "       [[ 80,  89,  47],\n",
       "        [ 87, 102,  50],\n",
       "        [ 80, 102,  54],\n",
       "        ...,\n",
       "        [100,  94,  77],\n",
       "        [ 68,  72,  53],\n",
       "        [ 33,  44,  10]],\n",
       "\n",
       "       [[ 76,  99,  49],\n",
       "        [ 91, 103,  55],\n",
       "        [ 84, 104,  67],\n",
       "        ...,\n",
       "        [111, 109,  52],\n",
       "        [113, 108,  69],\n",
       "        [ 59,  61,  34]]], dtype=uint8)"
      ]
     },
     "execution_count": 4,
     "metadata": {},
     "output_type": "execute_result"
    },
    {
     "data": {
      "image/png": "[encoded data removed]",
      "text/plain": [
       "<Figure size 432x288 with 1 Axes>"
      ]
     },
     "metadata": {
      "needs_background": "light"
     },
     "output_type": "display_data"
    }
   ],
   "source": [
    "plt.imshow(image)\n",
    "image\n"
   ]
  },
  {
   "cell_type": "code",
   "execution_count": 5,
   "metadata": {},
   "outputs": [],
   "source": [
    "features = image.reshape((-1,3))\n",
    "features = np.float32(features)"
   ]
  },
  {
   "cell_type": "code",
   "execution_count": 6,
   "metadata": {},
   "outputs": [
    {
     "data": {
      "text/html": [
       "<div>\n",
       "<style scoped>\n",
       "    .dataframe tbody tr th:only-of-type {\n",
       "        vertical-align: middle;\n",
       "    }\n",
       "\n",
       "    .dataframe tbody tr th {\n",
       "        vertical-align: top;\n",
       "    }\n",
       "\n",
       "    .dataframe thead th {\n",
       "        text-align: right;\n",
       "    }\n",
       "</style>\n",
       "<table border=\"1\" class=\"dataframe\">\n",
       "  <thead>\n",
       "    <tr style=\"text-align: right;\">\n",
       "      <th></th>\n",
       "      <th>0</th>\n",
       "      <th>1</th>\n",
       "      <th>2</th>\n",
       "    </tr>\n",
       "  </thead>\n",
       "  <tbody>\n",
       "    <tr>\n",
       "      <th>0</th>\n",
       "      <td>55.0</td>\n",
       "      <td>70.0</td>\n",
       "      <td>64.0</td>\n",
       "    </tr>\n",
       "    <tr>\n",
       "      <th>1</th>\n",
       "      <td>31.0</td>\n",
       "      <td>42.0</td>\n",
       "      <td>30.0</td>\n",
       "    </tr>\n",
       "    <tr>\n",
       "      <th>2</th>\n",
       "      <td>38.0</td>\n",
       "      <td>45.0</td>\n",
       "      <td>38.0</td>\n",
       "    </tr>\n",
       "    <tr>\n",
       "      <th>3</th>\n",
       "      <td>32.0</td>\n",
       "      <td>35.0</td>\n",
       "      <td>24.0</td>\n",
       "    </tr>\n",
       "    <tr>\n",
       "      <th>4</th>\n",
       "      <td>40.0</td>\n",
       "      <td>52.0</td>\n",
       "      <td>28.0</td>\n",
       "    </tr>\n",
       "    <tr>\n",
       "      <th>...</th>\n",
       "      <td>...</td>\n",
       "      <td>...</td>\n",
       "      <td>...</td>\n",
       "    </tr>\n",
       "    <tr>\n",
       "      <th>4091</th>\n",
       "      <td>65.0</td>\n",
       "      <td>55.0</td>\n",
       "      <td>46.0</td>\n",
       "    </tr>\n",
       "    <tr>\n",
       "      <th>4092</th>\n",
       "      <td>42.0</td>\n",
       "      <td>36.0</td>\n",
       "      <td>24.0</td>\n",
       "    </tr>\n",
       "    <tr>\n",
       "      <th>4093</th>\n",
       "      <td>111.0</td>\n",
       "      <td>109.0</td>\n",
       "      <td>52.0</td>\n",
       "    </tr>\n",
       "    <tr>\n",
       "      <th>4094</th>\n",
       "      <td>113.0</td>\n",
       "      <td>108.0</td>\n",
       "      <td>69.0</td>\n",
       "    </tr>\n",
       "    <tr>\n",
       "      <th>4095</th>\n",
       "      <td>59.0</td>\n",
       "      <td>61.0</td>\n",
       "      <td>34.0</td>\n",
       "    </tr>\n",
       "  </tbody>\n",
       "</table>\n",
       "<p>4096 rows × 3 columns</p>\n",
       "</div>"
      ],
      "text/plain": [
       "          0      1     2\n",
       "0      55.0   70.0  64.0\n",
       "1      31.0   42.0  30.0\n",
       "2      38.0   45.0  38.0\n",
       "3      32.0   35.0  24.0\n",
       "4      40.0   52.0  28.0\n",
       "...     ...    ...   ...\n",
       "4091   65.0   55.0  46.0\n",
       "4092   42.0   36.0  24.0\n",
       "4093  111.0  109.0  52.0\n",
       "4094  113.0  108.0  69.0\n",
       "4095   59.0   61.0  34.0\n",
       "\n",
       "[4096 rows x 3 columns]"
      ]
     },
     "execution_count": 6,
     "metadata": {},
     "output_type": "execute_result"
    }
   ],
   "source": [
    "df_image=pd.DataFrame(features)\n",
    "df_image"
   ]
  },
  {
   "cell_type": "code",
   "execution_count": 7,
   "metadata": {},
   "outputs": [],
   "source": [
    "def distance(x1, x2):\n",
    "  return np.sqrt((np.square(np.array(x1) - np.array(x2))).sum())"
   ]
  },
  {
   "cell_type": "code",
   "execution_count": 8,
   "metadata": {},
   "outputs": [],
   "source": [
    "def Estep(df,mu,r):\n",
    "  N=df.shape[0]\n",
    "  K=mu.shape[0]\n",
    "  for i in range(0,N):\n",
    "    xi=np.array(df.iloc[i])\n",
    "    dist=np.zeros(K)\n",
    "    for j in range(0,K):\n",
    "      dist[j]=distance(xi,mu[j])\n",
    "    cluster=np.argmin(dist,axis=0)\n",
    "    r[i]=cluster\n",
    "  return r  "
   ]
  },
  {
   "cell_type": "code",
   "execution_count": 9,
   "metadata": {},
   "outputs": [],
   "source": [
    "def Mstep(df,mu,r):\n",
    "  N=r.shape[0]\n",
    "  K=mu.shape[0]\n",
    "  mu_cnt=np.zeros(K)\n",
    "  mu_temp=np.zeros((K,mu.shape[1]))\n",
    "  for i in range(0,N):\n",
    "    mu_cnt[(int)(r[i])]+=1.0\n",
    "    mu_temp[(int)(r[i])]+=np.array(df.iloc[i])\n",
    "  for i in range(0,K):\n",
    "    mu_temp[i]=mu_temp[i]/mu_cnt[i]\n",
    "  \n",
    "  return mu_temp"
   ]
  },
  {
   "cell_type": "code",
   "execution_count": 10,
   "metadata": {},
   "outputs": [],
   "source": [
    "def Convergence(mu1, mu2):\n",
    "  K = mu1.shape[0]\n",
    "  temp = np.zeros(K)\n",
    "  for i in range(0, K):\n",
    "      temp[i] = distance(mu1[i], mu2[i])\n",
    "  return temp.sum()"
   ]
  },
  {
   "cell_type": "code",
   "execution_count": 11,
   "metadata": {},
   "outputs": [],
   "source": [
    "def CostFn(df, mu, r):\n",
    "    J = 0.0\n",
    "    N = r.shape[0]\n",
    "    for i in range(0, N):\n",
    "        xi = np.array(df.iloc[i])\n",
    "        dist = distance(xi, mu[(int)(r[i])])\n",
    "        J += dist**2\n",
    "    return J"
   ]
  },
  {
   "cell_type": "code",
   "execution_count": 12,
   "metadata": {},
   "outputs": [],
   "source": [
    "def kMeans(df,K):\n",
    "  N=df.shape[0]\n",
    "  r=np.zeros(N)\n",
    "  mu = np.zeros((K, df.shape[1]), dtype=np.float64)\n",
    "  np.random.seed(1000000)\n",
    "  for i in range(0, K):\n",
    "      j = np.random.randint(0, N)\n",
    "      mu[i] = np.array(df.iloc[j])\n",
    "  delta = 0.000001\n",
    "  prev_mu = np.zeros((K, df.shape[1]))\n",
    "  iters = 0\n",
    "  J = []\n",
    "  while Convergence(prev_mu, mu) > delta:\n",
    "    iters = iters+ 1\n",
    "    \n",
    "    r = Estep(df, mu, np.zeros(N))\n",
    "    J.append(CostFn(df, mu, r))\n",
    "    \n",
    "    prev_mu = copy.deepcopy(mu)\n",
    "    \n",
    "    mu = Mstep(df, mu, r)\n",
    "    J.append(CostFn(df, mu, r))\n",
    "  return mu, r"
   ]
  },
  {
   "cell_type": "code",
   "execution_count": 13,
   "metadata": {},
   "outputs": [],
   "source": [
    "def segmentImage(df,K):\n",
    "  mu, r = kMeans(df, K)\n",
    "  mu = np.uint8(mu)\n",
    "  r=np.uint8(r)\n",
    "  segmented_pixels = mu[r.flatten()]\n",
    "  segmented_image = segmented_pixels.reshape((image.shape))\n",
    "  return segmented_image"
   ]
  },
  {
   "cell_type": "code",
   "execution_count": 14,
   "metadata": {},
   "outputs": [
    {
     "data": {
      "text/plain": [
       "<matplotlib.image.AxesImage at 0x7fbca4f40910>"
      ]
     },
     "execution_count": 14,
     "metadata": {},
     "output_type": "execute_result"
    },
    {
     "data": {
      "image/png": "[encoded data removed]",
      "text/plain": [
       "<Figure size 432x288 with 1 Axes>"
      ]
     },
     "metadata": {
      "needs_background": "light"
     },
     "output_type": "display_data"
    }
   ],
   "source": [
    "plt.imshow(segmentImage(df_image,2))"
   ]
  },
  {
   "cell_type": "code",
   "execution_count": 15,
   "metadata": {},
   "outputs": [
    {
     "data": {
      "text/plain": [
       "<matplotlib.image.AxesImage at 0x7fbca4fb4310>"
      ]
     },
     "execution_count": 15,
     "metadata": {},
     "output_type": "execute_result"
    },
    {
     "data": {
      "image/png": "[encoded data removed]",
      "text/plain": [
       "<Figure size 432x288 with 1 Axes>"
      ]
     },
     "metadata": {
      "needs_background": "light"
     },
     "output_type": "display_data"
    }
   ],
   "source": [
    "plt.imshow(segmentImage(df_image,3))"
   ]
  },
  {
   "cell_type": "code",
   "execution_count": 16,
   "metadata": {},
   "outputs": [
    {
     "data": {
      "text/plain": [
       "<matplotlib.image.AxesImage at 0x7fbca583c4c0>"
      ]
     },
     "execution_count": 16,
     "metadata": {},
     "output_type": "execute_result"
    },
    {
     "data": {
      "image/png": "[encoded data removed]",
      "text/plain": [
       "<Figure size 432x288 with 1 Axes>"
      ]
     },
     "metadata": {
      "needs_background": "light"
     },
     "output_type": "display_data"
    }
   ],
   "source": [
    "plt.imshow(segmentImage(df_image,5))"
   ]
  },
  {
   "cell_type": "code",
   "execution_count": 17,
   "metadata": {},
   "outputs": [
    {
     "data": {
      "text/plain": [
       "<matplotlib.image.AxesImage at 0x7fbca59136a0>"
      ]
     },
     "execution_count": 17,
     "metadata": {},
     "output_type": "execute_result"
    },
    {
     "data": {
      "image/png": "[encoded data removed]",
      "text/plain": [
       "<Figure size 432x288 with 1 Axes>"
      ]
     },
     "metadata": {
      "needs_background": "light"
     },
     "output_type": "display_data"
    }
   ],
   "source": [
    "plt.imshow(segmentImage(df_image,10))"
   ]
  }
 ],
 "metadata": {
  "interpreter": {
   "hash": "9dff067c7937817354a0390f424b09ef35079e94da370ceed4ce836ff38114cc"
  },
  "kernelspec": {
   "display_name": "Python 3.8.5 ('base')",
   "language": "python",
   "name": "python3"
  },
  "language_info": {
   "codemirror_mode": {
    "name": "ipython",
    "version": 3
   },
   "file_extension": ".py",
   "mimetype": "text/x-python",
   "name": "python",
   "nbconvert_exporter": "python",
   "pygments_lexer": "ipython3",
   "version": "3.8.5"
  },
  "orig_nbformat": 4
 },
 "nbformat": 4,
 "nbformat_minor": 2
}
